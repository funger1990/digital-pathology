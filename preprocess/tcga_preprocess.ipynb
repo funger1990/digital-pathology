{
 "cells": [
  {
   "cell_type": "markdown",
   "metadata": {},
   "source": [
    "# TCGA-CRC Preprocess"
   ]
  },
  {
   "cell_type": "code",
   "execution_count": 7,
   "metadata": {},
   "outputs": [],
   "source": [
    "import os\n",
    "import functools\n",
    "import numpy as np\n",
    "import pandas as pd\n",
    "from matplotlib import pyplot as plt\n",
    "import seaborn as sns\n",
    "import importlib\n",
    "\n",
    "import openslide\n",
    "from openslide import deepzoom\n",
    "import tifffile\n",
    "import nibabel\n",
    "\n",
    "%matplotlib inline\n",
    "\n",
    "# import utils\n",
    "# import staintools\n",
    "datadir = \"H:/\""
   ]
  },
  {
   "cell_type": "markdown",
   "metadata": {},
   "source": [
    "# Data cleaning"
   ]
  },
  {
   "cell_type": "code",
   "execution_count": 5,
   "metadata": {},
   "outputs": [
    {
     "name": "stdout",
     "output_type": "stream",
     "text": [
      "(625, 9)\n"
     ]
    },
    {
     "data": {
      "text/html": [
       "<div>\n",
       "<style scoped>\n",
       "    .dataframe tbody tr th:only-of-type {\n",
       "        vertical-align: middle;\n",
       "    }\n",
       "\n",
       "    .dataframe tbody tr th {\n",
       "        vertical-align: top;\n",
       "    }\n",
       "\n",
       "    .dataframe thead th {\n",
       "        text-align: right;\n",
       "    }\n",
       "</style>\n",
       "<table border=\"1\" class=\"dataframe\">\n",
       "  <thead>\n",
       "    <tr style=\"text-align: right;\">\n",
       "      <th></th>\n",
       "      <th>project</th>\n",
       "      <th>wsi</th>\n",
       "      <th>msi_status</th>\n",
       "      <th>uuid</th>\n",
       "      <th>patient</th>\n",
       "      <th>filename</th>\n",
       "      <th>filepath</th>\n",
       "      <th>size</th>\n",
       "      <th>md5</th>\n",
       "    </tr>\n",
       "  </thead>\n",
       "  <tbody>\n",
       "    <tr>\n",
       "      <th>0</th>\n",
       "      <td>TCGA-COAD</td>\n",
       "      <td>TCGA-AA-A00R-01Z-00-DX1</td>\n",
       "      <td>MSI-H</td>\n",
       "      <td>397337b9-9f03-4edc-935d-a0d4e15bf006</td>\n",
       "      <td>TCGA-AA-A00R</td>\n",
       "      <td>TCGA-AA-A00R-01Z-00-DX1.7520405C-E7DD-46A4-BB6...</td>\n",
       "      <td>TCGA/wsi/TCGA-AA-A00R-01Z-00-DX1.7520405C-E7DD...</td>\n",
       "      <td>431269154</td>\n",
       "      <td>5df8ffb72c5319ea6afd293f658ae4ee</td>\n",
       "    </tr>\n",
       "  </tbody>\n",
       "</table>\n",
       "</div>"
      ],
      "text/plain": [
       "     project                      wsi msi_status  \\\n",
       "0  TCGA-COAD  TCGA-AA-A00R-01Z-00-DX1      MSI-H   \n",
       "\n",
       "                                   uuid       patient  \\\n",
       "0  397337b9-9f03-4edc-935d-a0d4e15bf006  TCGA-AA-A00R   \n",
       "\n",
       "                                            filename  \\\n",
       "0  TCGA-AA-A00R-01Z-00-DX1.7520405C-E7DD-46A4-BB6...   \n",
       "\n",
       "                                            filepath       size  \\\n",
       "0  TCGA/wsi/TCGA-AA-A00R-01Z-00-DX1.7520405C-E7DD...  431269154   \n",
       "\n",
       "                                md5  \n",
       "0  5df8ffb72c5319ea6afd293f658ae4ee  "
      ]
     },
     "execution_count": 5,
     "metadata": {},
     "output_type": "execute_result"
    }
   ],
   "source": [
    "df = pd.read_csv(datadir + 'TCGA/tcga_crc_files.csv')\n",
    "print(df.shape)\n",
    "df.head(1)"
   ]
  },
  {
   "cell_type": "markdown",
   "metadata": {},
   "source": [
    "### undownloaded files"
   ]
  },
  {
   "cell_type": "code",
   "execution_count": 26,
   "metadata": {},
   "outputs": [
    {
     "name": "stdout",
     "output_type": "stream",
     "text": [
      "5 not downloaded\n"
     ]
    },
    {
     "data": {
      "text/html": [
       "<div>\n",
       "<style scoped>\n",
       "    .dataframe tbody tr th:only-of-type {\n",
       "        vertical-align: middle;\n",
       "    }\n",
       "\n",
       "    .dataframe tbody tr th {\n",
       "        vertical-align: top;\n",
       "    }\n",
       "\n",
       "    .dataframe thead th {\n",
       "        text-align: right;\n",
       "    }\n",
       "</style>\n",
       "<table border=\"1\" class=\"dataframe\">\n",
       "  <thead>\n",
       "    <tr style=\"text-align: right;\">\n",
       "      <th></th>\n",
       "      <th>project</th>\n",
       "      <th>wsi</th>\n",
       "      <th>msi_status</th>\n",
       "      <th>uuid</th>\n",
       "      <th>patient</th>\n",
       "      <th>filename</th>\n",
       "      <th>filepath</th>\n",
       "      <th>size</th>\n",
       "      <th>md5</th>\n",
       "      <th>download</th>\n",
       "    </tr>\n",
       "  </thead>\n",
       "  <tbody>\n",
       "    <tr>\n",
       "      <th>0</th>\n",
       "      <td>TCGA-COAD</td>\n",
       "      <td>TCGA-AA-A00R-01Z-00-DX1</td>\n",
       "      <td>MSI-H</td>\n",
       "      <td>397337b9-9f03-4edc-935d-a0d4e15bf006</td>\n",
       "      <td>TCGA-AA-A00R</td>\n",
       "      <td>TCGA-AA-A00R-01Z-00-DX1.7520405C-E7DD-46A4-BB6...</td>\n",
       "      <td>TCGA/wsi/TCGA-AA-A00R-01Z-00-DX1.7520405C-E7DD...</td>\n",
       "      <td>431269154</td>\n",
       "      <td>5df8ffb72c5319ea6afd293f658ae4ee</td>\n",
       "      <td>True</td>\n",
       "    </tr>\n",
       "  </tbody>\n",
       "</table>\n",
       "</div>"
      ],
      "text/plain": [
       "     project                      wsi msi_status  \\\n",
       "0  TCGA-COAD  TCGA-AA-A00R-01Z-00-DX1      MSI-H   \n",
       "\n",
       "                                   uuid       patient  \\\n",
       "0  397337b9-9f03-4edc-935d-a0d4e15bf006  TCGA-AA-A00R   \n",
       "\n",
       "                                            filename  \\\n",
       "0  TCGA-AA-A00R-01Z-00-DX1.7520405C-E7DD-46A4-BB6...   \n",
       "\n",
       "                                            filepath       size  \\\n",
       "0  TCGA/wsi/TCGA-AA-A00R-01Z-00-DX1.7520405C-E7DD...  431269154   \n",
       "\n",
       "                                md5  download  \n",
       "0  5df8ffb72c5319ea6afd293f658ae4ee      True  "
      ]
     },
     "execution_count": 26,
     "metadata": {},
     "output_type": "execute_result"
    }
   ],
   "source": [
    "df['download'] = df['filepath'].map(lambda x: os.path.isfile(datadir + x))\n",
    "\n",
    "print((~df['download']).sum(), 'not downloaded')\n",
    "df.head(1)"
   ]
  },
  {
   "cell_type": "markdown",
   "metadata": {},
   "source": [
    "### magnification"
   ]
  },
  {
   "cell_type": "code",
   "execution_count": 49,
   "metadata": {},
   "outputs": [],
   "source": [
    "def get_resolution(file):\n",
    "    if not os.path.isfile(file):\n",
    "        return np.nan\n",
    "    \n",
    "    img = openslide.OpenSlide(file)\n",
    "    if 'aperio.MPP' in img.properties:\n",
    "        return float(img.properties['aperio.MPP'])\n",
    "    else:\n",
    "        return np.nan"
   ]
  },
  {
   "cell_type": "code",
   "execution_count": 54,
   "metadata": {},
   "outputs": [
    {
     "name": "stdout",
     "output_type": "stream",
     "text": [
      "CPU times: user 42.1 ms, sys: 0 ns, total: 42.1 ms\n",
      "Wall time: 35.6 ms\n"
     ]
    },
    {
     "data": {
      "text/plain": [
       "<matplotlib.axes._subplots.AxesSubplot at 0x7f2ea6a69150>"
      ]
     },
     "execution_count": 54,
     "metadata": {},
     "output_type": "execute_result"
    },
    {
     "data": {
      "image/png": "[encoded data removed]",
      "text/plain": [
       "<Figure size 432x288 with 1 Axes>"
      ]
     },
     "metadata": {
      "needs_background": "light"
     },
     "output_type": "display_data"
    }
   ],
   "source": [
    "%%time\n",
    "\n",
    "# df['resolution'] = df['filepath'].map(lambda x: get_resolution(datadir + x))\n",
    "df['resolution'].hist()"
   ]
  },
  {
   "cell_type": "code",
   "execution_count": 66,
   "metadata": {},
   "outputs": [
    {
     "name": "stdout",
     "output_type": "stream",
     "text": [
      "40    595\n",
      "20     25\n",
      "0       5\n",
      "Name: magnification, dtype: int64\n"
     ]
    },
    {
     "data": {
      "text/html": [
       "<div>\n",
       "<style scoped>\n",
       "    .dataframe tbody tr th:only-of-type {\n",
       "        vertical-align: middle;\n",
       "    }\n",
       "\n",
       "    .dataframe tbody tr th {\n",
       "        vertical-align: top;\n",
       "    }\n",
       "\n",
       "    .dataframe thead th {\n",
       "        text-align: right;\n",
       "    }\n",
       "</style>\n",
       "<table border=\"1\" class=\"dataframe\">\n",
       "  <thead>\n",
       "    <tr style=\"text-align: right;\">\n",
       "      <th></th>\n",
       "      <th>project</th>\n",
       "      <th>wsi</th>\n",
       "      <th>msi_status</th>\n",
       "      <th>uuid</th>\n",
       "      <th>patient</th>\n",
       "      <th>filename</th>\n",
       "      <th>filepath</th>\n",
       "      <th>size</th>\n",
       "      <th>md5</th>\n",
       "      <th>download</th>\n",
       "      <th>resolution</th>\n",
       "      <th>magnification</th>\n",
       "    </tr>\n",
       "  </thead>\n",
       "  <tbody>\n",
       "    <tr>\n",
       "      <th>0</th>\n",
       "      <td>TCGA-COAD</td>\n",
       "      <td>TCGA-AA-A00R-01Z-00-DX1</td>\n",
       "      <td>MSI-H</td>\n",
       "      <td>397337b9-9f03-4edc-935d-a0d4e15bf006</td>\n",
       "      <td>TCGA-AA-A00R</td>\n",
       "      <td>TCGA-AA-A00R-01Z-00-DX1.7520405C-E7DD-46A4-BB6...</td>\n",
       "      <td>TCGA/wsi/TCGA-AA-A00R-01Z-00-DX1.7520405C-E7DD...</td>\n",
       "      <td>431269154</td>\n",
       "      <td>5df8ffb72c5319ea6afd293f658ae4ee</td>\n",
       "      <td>True</td>\n",
       "      <td>0.2325</td>\n",
       "      <td>40</td>\n",
       "    </tr>\n",
       "  </tbody>\n",
       "</table>\n",
       "</div>"
      ],
      "text/plain": [
       "     project                      wsi msi_status  \\\n",
       "0  TCGA-COAD  TCGA-AA-A00R-01Z-00-DX1      MSI-H   \n",
       "\n",
       "                                   uuid       patient  \\\n",
       "0  397337b9-9f03-4edc-935d-a0d4e15bf006  TCGA-AA-A00R   \n",
       "\n",
       "                                            filename  \\\n",
       "0  TCGA-AA-A00R-01Z-00-DX1.7520405C-E7DD-46A4-BB6...   \n",
       "\n",
       "                                            filepath       size  \\\n",
       "0  TCGA/wsi/TCGA-AA-A00R-01Z-00-DX1.7520405C-E7DD...  431269154   \n",
       "\n",
       "                                md5  download  resolution  magnification  \n",
       "0  5df8ffb72c5319ea6afd293f658ae4ee      True      0.2325             40  "
      ]
     },
     "execution_count": 66,
     "metadata": {},
     "output_type": "execute_result"
    }
   ],
   "source": [
    "idx1 = ~df['download']\n",
    "idx2 = df['resolution'].notnull()\n",
    "\n",
    "df['magnification'] = 20\n",
    "df.loc[idx1, 'magnification'] = 0\n",
    "df.loc[idx2, 'magnification'] = 40\n",
    "\n",
    "# df.to_csv(datadir + 'tcga/tcga_crc_summary.csv', index=False)\n",
    "\n",
    "print(df['magnification'].value_counts())\n",
    "df.head(1)"
   ]
  },
  {
   "cell_type": "markdown",
   "metadata": {},
   "source": [
    "# Generate x2.5 WSI"
   ]
  },
  {
   "cell_type": "code",
   "execution_count": 13,
   "metadata": {},
   "outputs": [
    {
     "name": "stdout",
     "output_type": "stream",
     "text": [
      "(625, 12)\n"
     ]
    },
    {
     "data": {
      "text/html": [
       "<div>\n",
       "<style scoped>\n",
       "    .dataframe tbody tr th:only-of-type {\n",
       "        vertical-align: middle;\n",
       "    }\n",
       "\n",
       "    .dataframe tbody tr th {\n",
       "        vertical-align: top;\n",
       "    }\n",
       "\n",
       "    .dataframe thead th {\n",
       "        text-align: right;\n",
       "    }\n",
       "</style>\n",
       "<table border=\"1\" class=\"dataframe\">\n",
       "  <thead>\n",
       "    <tr style=\"text-align: right;\">\n",
       "      <th></th>\n",
       "      <th>project</th>\n",
       "      <th>wsi</th>\n",
       "      <th>msi_status</th>\n",
       "      <th>uuid</th>\n",
       "      <th>patient</th>\n",
       "      <th>filename</th>\n",
       "      <th>filepath</th>\n",
       "      <th>size</th>\n",
       "      <th>md5</th>\n",
       "      <th>download</th>\n",
       "      <th>resolution</th>\n",
       "      <th>magnification</th>\n",
       "    </tr>\n",
       "  </thead>\n",
       "  <tbody>\n",
       "    <tr>\n",
       "      <th>0</th>\n",
       "      <td>TCGA-COAD</td>\n",
       "      <td>TCGA-AA-A00R-01Z-00-DX1</td>\n",
       "      <td>MSI-H</td>\n",
       "      <td>397337b9-9f03-4edc-935d-a0d4e15bf006</td>\n",
       "      <td>TCGA-AA-A00R</td>\n",
       "      <td>TCGA-AA-A00R-01Z-00-DX1.7520405C-E7DD-46A4-BB6...</td>\n",
       "      <td>TCGA/wsi/TCGA-AA-A00R-01Z-00-DX1.7520405C-E7DD...</td>\n",
       "      <td>431269154</td>\n",
       "      <td>5df8ffb72c5319ea6afd293f658ae4ee</td>\n",
       "      <td>True</td>\n",
       "      <td>0.2325</td>\n",
       "      <td>40</td>\n",
       "    </tr>\n",
       "  </tbody>\n",
       "</table>\n",
       "</div>"
      ],
      "text/plain": [
       "     project                      wsi msi_status  \\\n",
       "0  TCGA-COAD  TCGA-AA-A00R-01Z-00-DX1      MSI-H   \n",
       "\n",
       "                                   uuid       patient  \\\n",
       "0  397337b9-9f03-4edc-935d-a0d4e15bf006  TCGA-AA-A00R   \n",
       "\n",
       "                                            filename  \\\n",
       "0  TCGA-AA-A00R-01Z-00-DX1.7520405C-E7DD-46A4-BB6...   \n",
       "\n",
       "                                            filepath       size  \\\n",
       "0  TCGA/wsi/TCGA-AA-A00R-01Z-00-DX1.7520405C-E7DD...  431269154   \n",
       "\n",
       "                                md5  download  resolution  magnification  \n",
       "0  5df8ffb72c5319ea6afd293f658ae4ee      True      0.2325             40  "
      ]
     },
     "execution_count": 13,
     "metadata": {},
     "output_type": "execute_result"
    }
   ],
   "source": [
    "df = pd.read_csv(datadir + 'tcga/tcga_crc_summary.csv')\n",
    "print(df.shape)\n",
    "df.head(1)"
   ]
  },
  {
   "cell_type": "code",
   "execution_count": 29,
   "metadata": {},
   "outputs": [
    {
     "name": "stdout",
     "output_type": "stream",
     "text": [
      "50\n",
      "100\n",
      "150\n",
      "200\n",
      "250\n",
      "300\n",
      "350\n",
      "400\n",
      "450\n",
      "500\n",
      "550\n",
      "600\n",
      "Wall time: 7h 19min 25s\n"
     ]
    }
   ],
   "source": [
    "# %%time\n",
    "\n",
    "# for idx, row in df.iterrows():\n",
    "#     if not row['download']:\n",
    "#         continue\n",
    "        \n",
    "#     file = datadir + row['filepath']\n",
    "#     mag = row['magnification']\n",
    "\n",
    "#     img = openslide.OpenSlide(file)\n",
    "\n",
    "#     dzg = deepzoom.DeepZoomGenerator(img)\n",
    "#     level_idx = dzg.level_count - 1 - int(np.log2(mag // 2.5))\n",
    "#     wsi_shape = dzg.level_dimensions[level_idx]\n",
    "\n",
    "#     dzg = deepzoom.DeepZoomGenerator(img, tile_size=max(wsi_shape))\n",
    "#     wsi_2dot5 = dzg.get_tile(level_idx, (0, 0))\n",
    "\n",
    "#     tifffile.imsave(\n",
    "#         datadir + 'tcga/wsi_2.5/' + row['filename'].replace('.svs', '.tif'),\n",
    "#         np.array(wsi_2dot5), \n",
    "#         compress=9)\n",
    "    \n",
    "#     if (idx + 1) % 50 == 0:\n",
    "#         print(idx + 1)"
   ]
  },
  {
   "cell_type": "markdown",
   "metadata": {},
   "source": [
    "# Remove grey background and color normalization"
   ]
  },
  {
   "cell_type": "code",
   "execution_count": 20,
   "metadata": {},
   "outputs": [
    {
     "data": {
      "text/plain": [
       "(array([[  9,   8,  12],\n",
       "        [ 14,  11,  22],\n",
       "        [ 24,  10,  36],\n",
       "        ...,\n",
       "        [255, 255, 253],\n",
       "        [255, 255, 254],\n",
       "        [255, 255, 255]], dtype=uint8),\n",
       " array([      1,       1,       1, ...,     354,    5249, 3830633],\n",
       "       dtype=int64))"
      ]
     },
     "execution_count": 20,
     "metadata": {},
     "output_type": "execute_result"
    }
   ],
   "source": [
    "a = np.array(wsi_2dot5)\n",
    "b = a.reshape(-1, 3)\n",
    "c = np.unique(b, axis=0, return_counts=True)\n",
    "c"
   ]
  },
  {
   "cell_type": "markdown",
   "metadata": {},
   "source": [
    "# Generate tumor mask"
   ]
  },
  {
   "cell_type": "code",
   "execution_count": 8,
   "metadata": {},
   "outputs": [],
   "source": [
    "nii_dir = datadir + 'TCGA/mask_nii/'\n",
    "show_dir = datadir + 'TCGA/mask_show/'\n",
    "mask_dir = datadir + 'TCGA/mask/'\n",
    "os.makedirs(show_dir, exist_ok=True)\n",
    "os.makedirs(mask_dir, exist_ok=True)\n",
    "\n",
    "for fname in os.listdir(nii_dir):\n",
    "    nii = nibabel.load(nii_dir + fname)\n",
    "    \n",
    "    mask = nii.get_fdata()[:, :, 0].astype(np.uint8).transpose()\n",
    "    fpath_mask = mask_dir + fname.split('.')[0] + '.tif'\n",
    "    tifffile.imsave(fpath_mask, mask, compress=9)\n",
    "    \n",
    "    show = mask * 255\n",
    "    fpath_show = show_dir + fname.split('.')[0] + '.tif'\n",
    "    tifffile.imsave(fpath_show, show, compress=9)"
   ]
  }
 ],
 "metadata": {
  "kernelspec": {
   "display_name": "Python 3",
   "language": "python",
   "name": "python3"
  },
  "language_info": {
   "codemirror_mode": {
    "name": "ipython",
    "version": 3
   },
   "file_extension": ".py",
   "mimetype": "text/x-python",
   "name": "python",
   "nbconvert_exporter": "python",
   "pygments_lexer": "ipython3",
   "version": "3.7.6"
  }
 },
 "nbformat": 4,
 "nbformat_minor": 4
}
